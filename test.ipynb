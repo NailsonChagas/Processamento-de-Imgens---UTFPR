{
 "cells": [
  {
   "cell_type": "code",
   "execution_count": 1,
   "id": "27d41db4",
   "metadata": {},
   "outputs": [],
   "source": [
    "import cv2\n",
    "import numpy as np\n",
    "import matplotlib.pyplot as plt\n",
    "\n",
    "# Cria uma imagem RGB preta (500x500 pixels com 3 canais)\n",
    "image = np.zeros((500, 500, 3), dtype=\"uint8\")\n",
    "\n",
    "# Desenha um círculo branco no centro da imagem\n",
    "cv2.circle(image, (250, 250), 100, (255, 255, 255), -1)\n",
    "\n",
    "# Exibe a imagem em uma janela\n",
    "cv2.imshow(\"Teste OpenCV\", image)\n",
    "\n",
    "# Espera até que uma tecla seja pressionada para fechar a janela\n",
    "cv2.waitKey(0)\n",
    "cv2.destroyAllWindows()"
   ]
  }
 ],
 "metadata": {
  "kernelspec": {
   "display_name": "venv",
   "language": "python",
   "name": "python3"
  },
  "language_info": {
   "codemirror_mode": {
    "name": "ipython",
    "version": 3
   },
   "file_extension": ".py",
   "mimetype": "text/x-python",
   "name": "python",
   "nbconvert_exporter": "python",
   "pygments_lexer": "ipython3",
   "version": "3.10.12"
  }
 },
 "nbformat": 4,
 "nbformat_minor": 5
}
