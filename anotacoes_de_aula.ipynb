{
 "cells": [
  {
   "cell_type": "code",
   "execution_count": 1,
   "metadata": {},
   "outputs": [],
   "source": [
    "import cv2\n",
    "import numpy as np\n",
    "import matplotlib.pyplot as plt"
   ]
  },
  {
   "cell_type": "markdown",
   "metadata": {},
   "source": [
    "### Visão humana \n",
    "Uma onda eletromagnética na faixa do espectro de luz visível é emitida por uma fonte primária (sol, lâmpada, etc.), refletida por uma fonte secundária (objeto) até alcançar a retina, onde os cones e bastonetes irão gerar impulsos nervosos através de reações fotoquímicas.\n",
    "- Espectro de luz visível: 4.3 * 10^(14) Hz ~ 7.5 * 10^(14) Hz\n",
    "- Cones:\n",
    "    - Cada olho possui de 6 a 8 milhões de cones na região central\n",
    "da retina\n",
    "    - Sensíveis a cores e possuem boa resolução para detalhes\n",
    "    - Funcionam sob boas condições de iluminação\n",
    "    - Existem 3 tipos de cones de acordo com a sensibilidade de\n",
    "faixas do espectro de luz: azul (ondas curtas), verde (ondas\n",
    "médias) e vermelho (ondas longas)\n",
    "    - Radiações luminosas de cores diversas podem ser obtidas por\n",
    "combinações das três cores primárias: vermelho, verde e azul\n",
    "- Bastonetes:\n",
    "    - Cada olho possui de 75 a 150 milhões bem distribuídos na\n",
    "superfície da retina\n",
    "    - Altamente sensíveis à luz, mas não diferenciam as cores\n",
    "    - Baixa resolução para detalhes\n",
    "\n",
    "### Imagem Digital\n",
    "Uma Imagem Digital é representada e armazenada em um dispositivo computacional de forma matricial ou vetorial. Em sua forma matricial mais básica (imagem em escala de cinza), a matriz é bidimensional, onde cada célula representa um pixel, com o valor da escala de cinza variando de 0 a 255. Se a imagem for colorida no formato RGB, ela será representada por uma matriz tridimensional no formato número_de_linhas * número_de_colunas * 3, onde o número 3 corresponde aos canais de cores vermelho (red), verde (green) e azul (blue). Cada célula desses canais armazena o valor de cor de um pixel da imagem, com valores variando entre 0 e 255.\n",
    "\n",
    "### Sistenas de cores\n",
    "- RGB (Red, Green, Blue)\n",
    "- RGBA (Red, Green, Blue, Alpha)\n",
    "- HSV (Hue, Saturation, and Value)\n",
    "- HSL (Hue, Saturation, and Lightness)\n",
    "- Obs: Termos comuns utilizados:\n",
    "    1. Alpha (Opacidade): O componente de transparência em sistemas como RGBA. Ele varia de 0 (totalmente transparente) a 1 (totalmente opaco), controlando o quanto a cor se sobrepõe ao fundo.\n",
    "    2. Hue (Matiz): Representa a cor pura no espectro visível, medida em graus de 0 a 360. Por exemplo, 0° é vermelho, 120° é verde, e 240° é azul.\n",
    "    3. Saturation (Saturação): Define a intensidade ou pureza da cor. Varia de 0% (cinza, sem cor) a 100% (cor mais vibrante).\n",
    "    4. Lightness (Luminosidade): Mede o quão clara ou escura é a cor em relação ao branco ou preto. Varia de 0% (preto) a 100% (branco), com 50% representando a cor \"normal\".\n",
    "    5. Value (Valor): Usado no sistema HSV, representa o brilho da cor. Varia de 0% (preto) a 100% (cor mais brilhante)."
   ]
  }
 ],
 "metadata": {
  "kernelspec": {
   "display_name": "venv",
   "language": "python",
   "name": "python3"
  },
  "language_info": {
   "codemirror_mode": {
    "name": "ipython",
    "version": 3
   },
   "file_extension": ".py",
   "mimetype": "text/x-python",
   "name": "python",
   "nbconvert_exporter": "python",
   "pygments_lexer": "ipython3",
   "version": "3.10.12"
  }
 },
 "nbformat": 4,
 "nbformat_minor": 2
}
